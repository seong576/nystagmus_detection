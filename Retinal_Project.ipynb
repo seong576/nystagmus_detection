{
  "cells": [
    {
      "cell_type": "markdown",
      "metadata": {
        "id": "view-in-github",
        "colab_type": "text"
      },
      "source": [
        "<a href=\"https://colab.research.google.com/github/seong576/nystagmus_detection/blob/main/Retinal_Project.ipynb\" target=\"_parent\"><img src=\"https://colab.research.google.com/assets/colab-badge.svg\" alt=\"Open In Colab\"/></a>"
      ]
    },
    {
      "cell_type": "markdown",
      "metadata": {
        "id": "3mXEYvkyc801"
      },
      "source": [
        "#Retina Detection in Image "
      ]
    },
    {
      "cell_type": "markdown",
      "metadata": {
        "id": "7xtdAqDARkRr"
      },
      "source": [
        "## Image To Numpy"
      ]
    },
    {
      "cell_type": "code",
      "execution_count": null,
      "metadata": {
        "id": "XI2gtgd9U19G"
      },
      "outputs": [],
      "source": [
        "import matplotlib.pyplot as plt\n",
        "import numpy as np\n",
        "from sklearn.model_selection import train_test_split\n",
        "from skimage.io import imread\n",
        "from skimage.transform import pyramid_reduce, resize\n",
        "import os, glob\n",
        "\n",
        "\n",
        "path = \"/content/drive/MyDrive/retina/\"\n",
        "\n",
        "img_list = sorted(glob.glob(path+'8_hrl,180/*.jpg'))\n",
        "mask_list = sorted(glob.glob(path+'8_hrl,180_mask/*.png'))\n",
        "row_size =320\n",
        "col_size = 320\n",
        "\n",
        "x_data, y_data = np.empty((2, len(img_list), row_size, col_size , 1), dtype=np.float32)\n",
        "\n",
        "for i, img_path in enumerate(img_list):\n",
        "    img = imread(img_path)\n",
        "    img = resize(img, output_shape=(row_size, col_size , 1), preserve_range=True)\n",
        "    x_data[i] = img\n",
        "      \n",
        "for i, img_path in enumerate(mask_list):\n",
        "    img = imread(img_path)\n",
        "    img = resize(img, output_shape=(row_size, col_size , 1), preserve_range=True)\n",
        "    y_data[i] = img\n",
        "    \n",
        "y_data /= 255.\n",
        "\n",
        "fig, ax = plt.subplots(1, 2)\n",
        "ax[0].imshow(x_data[12].squeeze(), cmap='gray')\n",
        "ax[1].imshow(y_data[12].squeeze(), cmap='gray')\n",
        "\n",
        "\n",
        "x_train, x_val, y_train, y_val = train_test_split(x_data, y_data, test_size=0.1,shuffle=True)\n",
        "\n",
        "np.save(path+'x_train.npy', x_train)\n",
        "np.save(path+'y_train.npy', y_train)\n",
        "np.save(path+'x_val.npy', x_val)\n",
        "np.save(path+'y_val.npy', y_val)\n",
        "\n",
        "print(x_train.shape, y_train.shape)\n",
        "print(x_val.shape, y_val.shape)"
      ]
    },
    {
      "cell_type": "markdown",
      "metadata": {
        "id": "OP6NWW8DRwCr"
      },
      "source": [
        "##U-net Model"
      ]
    },
    {
      "cell_type": "code",
      "execution_count": null,
      "metadata": {
        "colab": {
          "background_save": true
        },
        "id": "vyVGNRA6BWmC"
      },
      "outputs": [],
      "source": [
        "import numpy as np\n",
        "import matplotlib.pyplot as plt\n",
        "from __future__ import print_function\n",
        "import cv2\n",
        "import numpy as np\n",
        "import tensorflow as tf\n",
        "from keras.models import Model\n",
        "from keras.layers import Input, concatenate, Dropout, Conv2D, Conv3D\n",
        "from keras.layers import MaxPooling2D, MaxPooling3D, Conv2DTranspose, UpSampling2D\n",
        "from keras.layers import BatchNormalization, Activation\n",
        "from keras.layers import Reshape, Dense, multiply, Add, Concatenate\n",
        "from tensorflow.keras.optimizers import Adam\n",
        "from keras.callbacks import ModelCheckpoint, LearningRateScheduler\n",
        "from keras import backend as K\n",
        "from keras import models\n",
        "from keras import callbacks\n",
        "from keras.layers import Input, Activation, Conv2D, Flatten, Dense, MaxPooling2D, Dropout, Add, LeakyReLU, UpSampling2D\n",
        "from keras.models import Model, load_model\n",
        "from keras.callbacks import ReduceLROnPlateau\n",
        "\n",
        "path = \"/content/drive/MyDrive/retinal/\"\n",
        "\n",
        "x_train = np.load(path+'x_train.npy')\n",
        "y_train = np.load(path+'y_train.npy')\n",
        "x_val = np.load(path+'x_val.npy')\n",
        "y_val = np.load(path+'y_val.npy')\n",
        "smooth = 1.\n",
        "\n",
        "def dice_coef(y_true, y_pred):\n",
        "    y_true_f = K.flatten(y_true)\n",
        "    y_pred_f = K.flatten(y_pred)\n",
        "    intersection = K.sum(y_true_f * y_pred_f)\n",
        "    return (2. * intersection + smooth) / (K.sum(y_true_f) + K.sum(y_pred_f) + smooth)\n",
        "\n",
        "\n",
        "def dice_coef_loss(y_true, y_pred):\n",
        "    return -dice_coef(y_true, y_pred)\n",
        "\n",
        "\n",
        "inputs = Input(shape=(320, 320, 1))\n",
        "\n",
        "conv1 = Conv2D(32, (3, 3), activation='relu', padding='same')(inputs)\n",
        "batch1 = BatchNormalization()(conv1) \n",
        "conv1 = Conv2D(32, (3, 3), activation='relu', padding='same')(batch1)\n",
        "drop1 = tf.keras.layers.Dropout(0.1)(conv1)\n",
        "pool1 = MaxPooling2D(pool_size=(2, 2))(drop1)\n",
        "\n",
        "\n",
        "conv2 = Conv2D(64, (3, 3), activation='relu', padding='same')(pool1)\n",
        "batch2 = BatchNormalization()(conv2) \n",
        "conv2 = Conv2D(64, (3, 3), activation='relu', padding='same')(batch2)\n",
        "drop2 = tf.keras.layers.Dropout(0.1)(conv2)\n",
        "pool2 = MaxPooling2D(pool_size=(2, 2))(drop2)\n",
        "\n",
        "\n",
        "conv3 = Conv2D(128, (3, 3), activation='relu', padding='same')(pool2)\n",
        "batch3 = BatchNormalization()(conv3) \n",
        "conv3 = Conv2D(128, (3, 3), activation='relu', padding='same')(batch3)\n",
        "drop3 = tf.keras.layers.Dropout(0.1)(conv3)\n",
        "pool3 = MaxPooling2D(pool_size=(2, 2))(drop3)\n",
        "\n",
        "conv4 = Conv2D(256, (3, 3), activation='relu', padding='same')(pool3)\n",
        "batch4 = BatchNormalization()(conv4) \n",
        "conv4 = Conv2D(256, (3, 3), activation='relu', padding='same')(batch4)\n",
        "drop4 = tf.keras.layers.Dropout(0.1)(conv4)\n",
        "pool4 = MaxPooling2D(pool_size=(2, 2))(drop4)\n",
        "\n",
        "conv5 = Conv2D(512, (3, 3), activation='relu', padding='same')(pool4)\n",
        "batch5 = BatchNormalization()(conv5) \n",
        "conv5 = Conv2D(512, (3, 3), activation='relu', padding='same')(batch5)\n",
        "drop5 = tf.keras.layers.Dropout(0.1)(conv5)\n",
        "\n",
        "up6 = concatenate([Conv2DTranspose(256, (2, 2), strides=(2, 2),\n",
        "                                       padding='same')(conv5), conv4], axis=3)\n",
        "conv6 = Conv2D(256, (3, 3), activation='relu', padding='same')(up6)\n",
        "batch6 = BatchNormalization()(conv6) \n",
        "conv6 = Conv2D(256, (3, 3), activation='relu', padding='same')(batch6)\n",
        "\n",
        "up7 = concatenate([Conv2DTranspose(128, (2, 2), strides=(2, 2),\n",
        "                                       padding='same')(conv6), conv3], axis=3)\n",
        "conv7 = Conv2D(128, (3, 3), activation='relu', padding='same')(up7)\n",
        "batch7 = BatchNormalization()(conv7) \n",
        "conv7 = Conv2D(128, (3, 3), activation='relu', padding='same')(batch7)\n",
        "\n",
        "up8 = concatenate([Conv2DTranspose(64, (2, 2), strides=(2, 2),\n",
        "                                       padding='same')(conv7), conv2], axis=3)\n",
        "conv8 = Conv2D(64, (3, 3), activation='relu', padding='same')(up8)\n",
        "batch8 = BatchNormalization()(conv8) \n",
        "conv8 = Conv2D(64, (3, 3), activation='relu', padding='same')(batch8)\n",
        "\n",
        "up9 = concatenate([Conv2DTranspose(32, (2, 2), strides=(2, 2),\n",
        "                                       padding='same')(conv8), conv1], axis=3)\n",
        "conv9 = Conv2D(32, (3, 3), activation='relu', padding='same')(up9)\n",
        "batch9 = BatchNormalization()(conv9) \n",
        "conv9 = Conv2D(32, (3, 3), activation='relu', padding='same')(batch9)\n",
        "\n",
        "conv10 = Conv2D(1, (1, 1), activation='sigmoid')(conv9)\n",
        "model = Model(inputs=[inputs], outputs=[conv10])\n",
        "model.compile(optimizer=Adam(learning_rate=1e-3), loss=dice_coef_loss, metrics=[dice_coef])\n",
        "\n",
        "model_checkpoint = ModelCheckpoint('unet.hdf5', monitor='loss', save_best_only=True)\n",
        "\n",
        "history = model.fit(x_train, y_train, batch_size=6, epochs=20,\n",
        "                        verbose=1, shuffle=True,\n",
        "                        validation_data=(x_val, y_val),callbacks=[model_checkpoint])\n",
        "\n",
        "model.save(path+\"Unet\")"
      ]
    },
    {
      "cell_type": "markdown",
      "metadata": {
        "id": "EPEdvjUbR4OM"
      },
      "source": [
        "##Video to Numpy and Prediction"
      ]
    },
    {
      "cell_type": "code",
      "execution_count": null,
      "metadata": {
        "id": "TueISSMuHvO9"
      },
      "outputs": [],
      "source": [
        "import numpy as np\n",
        "import tensorflow as tf\n",
        "from tensorflow import keras\n",
        "import matplotlib.pyplot as plt\n",
        "import cv2\n",
        "import sys\n",
        "from google.colab.patches import cv2_imshow\n",
        "import scipy.misc\n",
        "path = \"/content/drive/MyDrive/retina/\"\n",
        "model = keras.models.load_model(path+\"Unet\", compile =False)\n",
        "\n",
        "cap = cv2.VideoCapture(path+\"dhl.mp4\")\n",
        "tensor = []\n",
        "while cap.isOpened():\n",
        "    ret, image = cap.read()\n",
        "\n",
        "    if not ret:\n",
        "        break\n",
        "    image = cv2.resize(image, (320, 320))\n",
        "    gray_img = cv2.cvtColor(image,cv2.COLOR_BGR2GRAY)\n",
        "    tensor.append(np.asarray(gray_img)[:,:])\n",
        "    cv2.waitKey(0)\n",
        "\n",
        "tensor = np.array(tensor)\n",
        "cv2.destroyAllWindows()\n",
        "cap.release()\n",
        "\n",
        "x_test = np.asarray(np.load(path+\"x_train.npy\"),dtype=\"uint8\")\n",
        "#preds = np.asarray(np.load(path+\"y_train.npy\"),dtype=\"uint8\")\n",
        "#x_test = np.asarray(tensor,dtype=\"uint8\")\n",
        "preds = np.asarray(model.predict(x_test),dtype=\"uint8\")\n",
        "\n",
        "img_rows =120\n",
        "img_cols =320\n",
        "def set_view():\n",
        "    total=x_test.shape[0]\n",
        "    img = np.ndarray((total, img_rows, img_cols), dtype=np.uint8)\n",
        "    mask = np.ndarray((total, img_rows, img_cols), dtype=np.uint8)\n",
        "    kernel = np.ones((3, 3), np.uint8)\n",
        "    dst = np.full((total,img_rows, img_cols),255,dtype=np.uint8)\n",
        "    img = x_test\n",
        "    mask = preds\n",
        "    print(\"total time : {0:0.2f}\".format(total/30))\n",
        "    for m in range(total):\n",
        "        msk = cv2.dilate(mask[m], kernel, iterations=1)\n",
        "        msk = cv2.GaussianBlur(msk, (0,0), 7)\n",
        "        cv2.copyTo(img[m],msk,dst[m])\n",
        "    return dst\n",
        "\n",
        "view_imgs = np.ndarray((x_test.shape[0],img_rows, img_cols), dtype=np.uint8)\n",
        "view_imgs = set_view()\n",
        "for i in range(20):\n",
        "    #left.write(view_imgs[i,:320,160:])\n",
        "    #_,inv_img = cv2.threshold(view_imgs[i,:,:],160,255,cv2.THRESH_TOZERO_INV|cv2.THRESH_BINARY)\n",
        "    cv2_imshow(x_test[i,:,:])\n",
        "    cv2_imshow(view_imgs[i,:,:])\n",
        "    #right.write(view_imgs[i,:320,160:])"
      ]
    },
    {
      "cell_type": "code",
      "execution_count": null,
      "metadata": {
        "id": "OMSrTRAIzz5B",
        "colab": {
          "base_uri": "https://localhost:8080/"
        },
        "outputId": "2cf5a58f-9e95-400b-cf19-30c57cdf9b1d"
      },
      "outputs": [
        {
          "output_type": "stream",
          "name": "stdout",
          "text": [
            "WARNING:tensorflow:Unable to restore custom metric. Please ensure that the layer implements `get_config` and `from_config` when saving. In addition, please use the `custom_objects` arg when calling `load_model()`.\n"
          ]
        },
        {
          "output_type": "display_data",
          "data": {
            "text/plain": [
              "<PIL.Image.Image image mode=L size=320x120 at 0x7F96D3AED450>"
            ],
            "image/png": "[encoded data removed]"
          },
          "metadata": {}
        },
        {
          "output_type": "display_data",
          "data": {
            "text/plain": [
              "<PIL.Image.Image image mode=L size=320x120 at 0x7F962E30CA50>"
            ],
            "image/png": "[encoded data removed]"
          },
          "metadata": {}
        }
      ],
      "source": [
        "import numpy as np\n",
        "import tensorflow as tf\n",
        "from tensorflow import keras\n",
        "import matplotlib.pyplot as plt\n",
        "import cv2\n",
        "from google.colab.patches import cv2_imshow\n",
        "path = \"/content/drive/MyDrive/retinal/\"\n",
        "model = keras.models.load_model(path+\"Unet\", compile =False)\n",
        "\n",
        "msk = np.asarray(cv2.imread(path+\"Train_Mask/1.png\",cv2.IMREAD_GRAYSCALE),dtype=\"uint8\")\n",
        "img = cv2.imread(path+\"Train_img/1.jpg\",cv2.IMREAD_GRAYSCALE)\n",
        "x = np.ones((120,320),dtype=\"uint8\")*255\n",
        "cv2_imshow(img)\n",
        "\n",
        "cv2.copyTo(img,msk,x)\n",
        "cv2_imshow(x)\n"
      ]
    },
    {
      "cell_type": "markdown",
      "metadata": {
        "id": "W3KNpDn5cqrH"
      },
      "source": [
        "#Nystagmus Detection "
      ]
    },
    {
      "cell_type": "markdown",
      "metadata": {
        "id": "Oepq3ad5cL2_"
      },
      "source": [
        "##Make DataSet To Numpy\n",
        " * processing for Convlstm Input"
      ]
    },
    {
      "cell_type": "code",
      "execution_count": null,
      "metadata": {
        "colab": {
          "base_uri": "https://localhost:8080/"
        },
        "id": "boPY1BqUZzL7",
        "outputId": "5a42f048-183b-49a5-ea36-a7e333f2d696"
      },
      "outputs": [
        {
          "name": "stdout",
          "output_type": "stream",
          "text": [
            "['move', 'fixed']\n",
            "(306, 15, 60, 160) (306, 2)\n",
            "(34, 15, 60, 160) (34, 2)\n"
          ]
        }
      ],
      "source": [
        "import matplotlib.pyplot as plt\n",
        "import pandas as pd\n",
        "import numpy as np\n",
        "from sklearn.model_selection import train_test_split\n",
        "from skimage.io import imread\n",
        "from skimage.transform import pyramid_reduce, resize\n",
        "import os, glob\n",
        "from sklearn.preprocessing import LabelEncoder\n",
        "\n",
        "path = \"/content/drive/MyDrive/sample/\"\n",
        "\n",
        "row_size =60\n",
        "col_size = 160\n",
        "classes = [\"fixed\", \"move\"]\n",
        "\n",
        "def frames_extraction_and_create(video_path):\n",
        "    frames_list = []\n",
        "    X = []\n",
        "    Y = []\n",
        "    classes_list = os.listdir(video_path)\n",
        "    print(classes_list)\n",
        "    for c in classes_list: #nystagmus, runout\n",
        "        files_list = os.listdir(os.path.join(path,c))\n",
        "        for files in files_list: # 45,46,51....\n",
        "          file_img = os.listdir(os.path.join(path,c+\"/\"+files))\n",
        "          for segment in file_img: #334.jpg 335.jpg\n",
        "              if segment.find(\"jpg\") != -1:\n",
        "                  image = cv2.imread(os.path.join(path,c+\"/\"+files+\"/\"+segment),cv2.IMREAD_GRAYSCALE)\n",
        "                  image = cv2.resize(image,dsize=(col_size,row_size),interpolation=cv2.INTER_AREA)\n",
        "                  frames_list.append(image)\n",
        "          X.append(frames_list)\n",
        "          frames_list = []\n",
        "          if c.find(classes[0]) != -1:\n",
        "              Y.append([0,1])\n",
        "          else:\n",
        "              Y.append([1,0])\n",
        "    \n",
        "    df = pd.DataFrame(data = Y,columns=[classes[0],classes[1]])\n",
        "    X=np.asarray(X)\n",
        "    return X,df.to_numpy()\n",
        "\n",
        "X,Y=frames_extraction_and_create(path)\n",
        "\n",
        "x_train, x_val, y_train, y_val = train_test_split(X, Y, test_size=0.1,shuffle=True)\n",
        "\n",
        "np.save(path+'x_train.npy', x_train)\n",
        "np.save(path+'y_train.npy', y_train)\n",
        "np.save(path+'x_val.npy', x_val)\n",
        "np.save(path+'y_val.npy', y_val)\n",
        "\n",
        "print(x_train.shape, y_train.shape)\n",
        "print(x_val.shape, y_val.shape)\n"
      ]
    },
    {
      "cell_type": "code",
      "execution_count": null,
      "metadata": {
        "colab": {
          "background_save": true,
          "base_uri": "https://localhost:8080/"
        },
        "id": "pLyUt4L9BoAL",
        "outputId": "72a7ea0b-4388-49e4-d853-715f53c1934a"
      },
      "outputs": [
        {
          "name": "stdout",
          "output_type": "stream",
          "text": [
            "Model: \"model_7\"\n",
            "_________________________________________________________________\n",
            " Layer (type)                Output Shape              Param #   \n",
            "=================================================================\n",
            " input_11 (InputLayer)       [(None, 15, 60, 160, 1)]  0         \n",
            "                                                                 \n",
            " conv_lstm2d_26 (ConvLSTM2D)  (None, 15, 56, 156, 64)  416256    \n",
            "                                                                 \n",
            " max_pooling3d_24 (MaxPoolin  (None, 15, 12, 32, 64)   0         \n",
            " g3D)                                                            \n",
            "                                                                 \n",
            " batch_normalization_24 (Bat  (None, 15, 12, 32, 64)   256       \n",
            " chNormalization)                                                \n",
            "                                                                 \n",
            " dropout_24 (Dropout)        (None, 15, 12, 32, 64)    0         \n",
            "                                                                 \n",
            " conv_lstm2d_27 (ConvLSTM2D)  (None, 15, 10, 30, 64)   295168    \n",
            "                                                                 \n",
            " max_pooling3d_25 (MaxPoolin  (None, 15, 4, 10, 64)    0         \n",
            " g3D)                                                            \n",
            "                                                                 \n",
            " batch_normalization_25 (Bat  (None, 15, 4, 10, 64)    256       \n",
            " chNormalization)                                                \n",
            "                                                                 \n",
            " dropout_25 (Dropout)        (None, 15, 4, 10, 64)     0         \n",
            "                                                                 \n",
            " conv_lstm2d_28 (ConvLSTM2D)  (None, 15, 4, 10, 64)    33024     \n",
            "                                                                 \n",
            " max_pooling3d_26 (MaxPoolin  (None, 15, 2, 4, 64)     0         \n",
            " g3D)                                                            \n",
            "                                                                 \n",
            " batch_normalization_26 (Bat  (None, 15, 2, 4, 64)     256       \n",
            " chNormalization)                                                \n",
            "                                                                 \n",
            " dropout_26 (Dropout)        (None, 15, 2, 4, 64)      0         \n",
            "                                                                 \n",
            " flatten_8 (Flatten)         (None, 7680)              0         \n",
            "                                                                 \n",
            " dense_11 (Dense)            (None, 256)               1966336   \n",
            "                                                                 \n",
            " dense_12 (Dense)            (None, 2)                 514       \n",
            "                                                                 \n",
            "=================================================================\n",
            "Total params: 2,712,066\n",
            "Trainable params: 2,711,682\n",
            "Non-trainable params: 384\n",
            "_________________________________________________________________\n",
            "(306, 15, 60, 160)\n",
            "Epoch 1/5\n",
            "39/39 [==============================] - 101s 2s/step - loss: 0.0229 - accuracy: 0.9935 - lr: 1.0000e-04\n",
            "Epoch 2/5\n",
            "39/39 [==============================] - 93s 2s/step - loss: 1.7373e-05 - accuracy: 1.0000 - lr: 1.0000e-04\n",
            "Epoch 3/5\n",
            "39/39 [==============================] - 92s 2s/step - loss: 2.9182e-06 - accuracy: 1.0000 - lr: 1.0000e-04\n",
            "Epoch 4/5\n",
            "39/39 [==============================] - 92s 2s/step - loss: 6.4084e-07 - accuracy: 1.0000 - lr: 1.0000e-04\n",
            "Epoch 5/5\n",
            "39/39 [==============================] - 92s 2s/step - loss: 1.1492e-06 - accuracy: 1.0000 - lr: 1.0000e-04\n",
            "2/2 - 2s - loss: 0.1450 - accuracy: 1.0000 - 2s/epoch - 1s/step\n",
            "\n",
            "Test accuracy: 1.0\n"
          ]
        }
      ],
      "source": [
        "import keras\n",
        "from keras import applications\n",
        "from keras.preprocessing.image import ImageDataGenerator\n",
        "from keras import optimizers\n",
        "from keras.models import Sequential, Model\n",
        "from keras.layers import *\n",
        "from keras.callbacks import ModelCheckpoint, LearningRateScheduler, TensorBoard, EarlyStopping\n",
        " \n",
        "import os\n",
        "import cv2\n",
        "import numpy as np\n",
        "from sklearn.model_selection import train_test_split\n",
        "from sklearn.metrics import accuracy_score\n",
        "from sklearn.metrics import precision_score\n",
        "from sklearn.metrics import recall_score\n",
        "from sklearn.metrics import f1_score\n",
        "from sklearn.metrics import cohen_kappa_score\n",
        "from sklearn.metrics import roc_auc_score\n",
        "from sklearn.metrics import multilabel_confusion_matrix\n",
        "\n",
        "data_dir = \"/content/drive/MyDrive/sample/\"\n",
        "img_height , img_width = 120, 320\n",
        " \n",
        "classes = [\"fixed\", \"move\"]\n",
        "\n",
        "def load_data(path):\n",
        "  x_train = np.load(path+'x_train.npy',allow_pickle=True)\n",
        "  y_train = np.load(path+'y_train.npy',allow_pickle=True)\n",
        "  x_test = np.load(path+'x_val.npy',allow_pickle=True)\n",
        "  y_test = np.load(path+'y_val.npy',allow_pickle=True)\n",
        "  print(x_train.shape)\n",
        "  return x_train,x_test,y_train,y_test\n",
        "\n",
        "def get_Model():\n",
        "  inp = keras.layers.Input(shape=(15,60,160,1))\n",
        "\n",
        "  x = keras.layers.ConvLSTM2D(filters=64,kernel_size=(5, 5),return_sequences=True,activation=\"tanh\")(inp)\n",
        "  x = keras.layers.MaxPooling3D(pool_size = (1,5,5),padding ='same')(x)\n",
        "  x = keras.layers.BatchNormalization()(x)\n",
        "  x = keras.layers.Dropout(0.2)(x)\n",
        "\n",
        "  x = keras.layers.ConvLSTM2D(filters=64,kernel_size=(3, 3),return_sequences=True,activation=\"tanh\")(x)\n",
        "  x = keras.layers.MaxPooling3D(pool_size = (1,3,3),padding ='same')(x)\n",
        "  x = keras.layers.BatchNormalization()(x)\n",
        "  x = keras.layers.Dropout(0.2)(x)\n",
        "\n",
        "  x = keras.layers.ConvLSTM2D(filters=64,kernel_size=(1, 1),return_sequences=True,activation=\"tanh\")(x)\n",
        "  x = keras.layers.MaxPooling3D(pool_size = (1,3,3),padding ='same')(x)\n",
        "  x = keras.layers.BatchNormalization()(x)\n",
        "  x = keras.layers.Dropout(0.2)(x)\n",
        "\n",
        "  x = keras.layers.Flatten()(x)\n",
        "  x = keras.layers.Dense(256,activation = \"relu\")(x)\n",
        "  x = keras.layers.Dense(2,activation = \"softmax\")(x)\n",
        "\n",
        "  model = keras.models.Model(inp, x)\n",
        "  opt = tf.keras.optimizers.Adam(learning_rate=0.0001)\n",
        "  model.compile(loss=tf.keras.losses.categorical_crossentropy, optimizer=opt, metrics=[\"accuracy\"])\n",
        "  model.summary()\n",
        "  return model\n",
        "\n",
        "model = get_Model()\n",
        "x_train, x_test, y_train, y_test = load_data(data_dir)\n",
        "\n",
        "earlystop = EarlyStopping(patience=7)\n",
        "callbacks = [earlystop]\n",
        "early_stopping = keras.callbacks.EarlyStopping(monitor=\"loss\", patience=10)\n",
        "reduce_lr = keras.callbacks.ReduceLROnPlateau(monitor=\"loss\", patience=5)\n",
        "\n",
        "# Define modifiable training hyperparameters.\n",
        "epochs = 5\n",
        "batch_size = 8\n",
        "\n",
        "# Fit the model to the training data.\n",
        "history = model.fit(\n",
        "    x_train,\n",
        "    y_train,\n",
        "    batch_size=batch_size,\n",
        "    epochs=epochs,\n",
        "    callbacks=[early_stopping, reduce_lr],\n",
        ")\n",
        "\n",
        "test_loss, test_acc = model.evaluate(x_test,  y_test, verbose=2)\n",
        "\n",
        "print('\\nTest accuracy:', test_acc)"
      ]
    }
  ],
  "metadata": {
    "accelerator": "GPU",
    "colab": {
      "collapsed_sections": [
        "3mXEYvkyc801"
      ],
      "name": "Retinal_Project.ipynb",
      "provenance": [],
      "mount_file_id": "1JT6V8aSwDQdG2E2Ty9L0GPsKJOuxcwv1",
      "authorship_tag": "ABX9TyNWhvEg+zowi8eTWBHROSOV",
      "include_colab_link": true
    },
    "kernelspec": {
      "display_name": "Python 3",
      "name": "python3"
    },
    "language_info": {
      "name": "python"
    }
  },
  "nbformat": 4,
  "nbformat_minor": 0
}